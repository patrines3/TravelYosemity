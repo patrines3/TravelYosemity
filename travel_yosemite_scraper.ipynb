{
 "cells": [
  {
   "cell_type": "code",
   "execution_count": 8,
   "metadata": {},
   "outputs": [],
   "source": [
    "# Import libraries\n",
    "import time\n",
    "import os\n",
    "import logging\n",
    "from selenium import webdriver\n",
    "from webdriver_manager.chrome import ChromeDriverManager\n",
    "from selenium.webdriver.common.by import By\n",
    "from selenium.webdriver.chrome.service import Service\n",
    "from selenium.webdriver.chrome.options import Options\n",
    "from selenium.webdriver.support.ui import Select\n",
    "from selenium.common.exceptions import StaleElementReferenceException\n",
    "from token_twilio import key_twilio\n",
    "from twilio.rest import Client"
   ]
  },
  {
   "cell_type": "code",
   "execution_count": 9,
   "metadata": {},
   "outputs": [],
   "source": [
    "# Set Twilio to send sms messages\n",
    "# Set environment variables for your credentials\n",
    "# Read more at http://twil.io/secure\n",
    "account_sid = \"AC76e55aab103ecc85c59dcb3b7189444e\"\n",
    "auth_token = key_twilio #os.environ[\"TWILIO_AUTH_TOKEN\"]\n"
   ]
  },
  {
   "cell_type": "code",
   "execution_count": 19,
   "metadata": {},
   "outputs": [
    {
     "name": "stdout",
     "output_type": "stream",
     "text": [
      "Processing https://reservations.ahlsmsworld.com/Yosemite/Plan-Your-Trip/Accommodations\n"
     ]
    }
   ],
   "source": [
    "## Setup chrome options\n",
    "chrome_options = Options()\n",
    "chrome_options.add_argument(\"--headless\") # Ensure GUI is off\n",
    "chrome_options.add_argument(\"--no-sandbox\")\n",
    "\n",
    "# Silent download of drivers\n",
    "logging.getLogger('WDM').setLevel(logging.NOTSET)\n",
    "os.environ['WDM_LOG'] = 'False'\n",
    "\n",
    "# Creating a driver objet to manage browser \n",
    "driver = webdriver.Chrome(service=Service(ChromeDriverManager().install()), options=chrome_options)\n",
    "\n",
    "# Defining the url we want to scrape\n",
    "url_pages = {\"Travel Lodge\": \"https://reservations.ahlsmsworld.com/Yosemite/Plan-Your-Trip/Accommodations\",} \n",
    "\n",
    "# Get data from the webpage of interest\n",
    "for page in url_pages:    \n",
    "    # Ask the driver to direct us to the url\n",
    "    driver.get(url_pages[page])\n",
    "    print(\"Processing\" , url_pages[page] )\n",
    "\n",
    "    time.sleep(2)\n",
    "    \n",
    "    select = Select(driver.find_element(By.ID,'box-widget_ProductSelection'))\n",
    "\n",
    "    # select Lodge of interest by visible text\n",
    "    select.select_by_visible_text('Yosemite Valley Lodge')\n",
    "    time.sleep(1)\n",
    "\n",
    "    # select Number of rooms by visible text\n",
    "    select = Select(driver.find_element(By.ID,'box-widget_UnitCount'))\n",
    "    select.select_by_visible_text('1')\n",
    "\n",
    "    # select Number of children in the room by visible text\n",
    "    select = Select(driver.find_element(By.ID,'box-widget_Children'))\n",
    "    select.select_by_visible_text('1')\n",
    "    # The following lines are for setting multiple rooms\n",
    "    #select = Select(driver.find_element(By.ID,'box-widget_MultiUnitCount_Children[0]'))\n",
    "    #select.select_by_visible_text('1')\n",
    "    #select = Select(driver.find_element(By.ID,'box-widget_MultiUnitCount_Children[1]'))\n",
    "    #select.select_by_visible_text('1')\n",
    "    #select = Select(driver.find_element(By.ID,'box-widget_MultiUnitCount_Children[2]'))\n",
    "    #select.select_by_visible_text('1')\n",
    "    time.sleep(1)\n",
    "    # open calendar of check-in dates\n",
    "    driver.find_element(By.ID, \"box-widget_ArrivalDate\").click()\n",
    "\n",
    "    # select month of check-in to evaluate\n",
    "    select = Select(driver.find_element(By.CLASS_NAME,'ui-datepicker-month'))\n",
    "    select.select_by_visible_text('Jul')\n",
    "\n",
    "    days_selector = driver.find_elements(By.CSS_SELECTOR, 'tr')\n",
    "    \n",
    "    avail = driver.find_elements(By.CSS_SELECTOR, '.ui-datepickerAvail-significant:not(.ui-datepicker-unselectable), .ui-datepickerAvail-limited:not(.ui-datepicker-unselectable)')\n",
    "    \n",
    "    days = []\n",
    "    try:\n",
    "        for day in avail:\n",
    "            if day.text != '':\n",
    "                days.append(int(day.text))\n",
    "    except StaleElementReferenceException as Exception:\n",
    "        pass\n",
    "        #print('no hay dias disponibles')      \n",
    "        #    columns = driver.find_elements(By.CSS_SELECTOR, 'td')\n",
    "        #    print(columns[0].class)\n",
    "        #    #for i,j in enumerate(columns):\n",
    "        #    #    print(columns[i].text)\n",
    "    finally:\n",
    "        counter = 1\n",
    "        for i,day in enumerate(days):\n",
    "            if i == 0: \n",
    "                continue\n",
    "            if days[i] == days[i-1] + 1:\n",
    "                counter += 1\n",
    "            else: \n",
    "                counter = 1\n",
    "\n",
    "            if counter == 4:\n",
    "                break\n",
    "\n",
    "        if counter > 4:\n",
    "            client  = Client(account_sid, auth_token)\n",
    "            message = client.messages.create( body=\"Hay disponibilidad!\",from_=\"+18882985392\",to=\"+15629556375\")\n",
    "    \n",
    "\n",
    "   \n",
    "    "
   ]
  }
 ],
 "metadata": {
  "kernelspec": {
   "display_name": "base",
   "language": "python",
   "name": "python3"
  },
  "language_info": {
   "codemirror_mode": {
    "name": "ipython",
    "version": 3
   },
   "file_extension": ".py",
   "mimetype": "text/x-python",
   "name": "python",
   "nbconvert_exporter": "python",
   "pygments_lexer": "ipython3",
   "version": "3.11.2"
  },
  "orig_nbformat": 4,
  "vscode": {
   "interpreter": {
    "hash": "d3adbfbe91039a419937f4372fe3c9372de1d813c45d2145f24a226933280580"
   }
  }
 },
 "nbformat": 4,
 "nbformat_minor": 2
}
